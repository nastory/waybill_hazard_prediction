{
 "cells": [
  {
   "cell_type": "markdown",
   "metadata": {},
   "source": [
    "# Model Evaluation"
   ]
  },
  {
   "cell_type": "code",
   "execution_count": 1,
   "metadata": {},
   "outputs": [],
   "source": [
    "import plaidml.keras as pk\n",
    "pk.install_backend()\n",
    "\n",
    "import pandas as pd\n",
    "import numpy as np\n",
    "import joblib\n",
    "import pickle\n",
    "from sklearn.metrics import roc_auc_score, accuracy_score, classification_report, confusion_matrix\n",
    "from sklearn.model_selection import train_test_split\n",
    "from keras.models import load_model"
   ]
  },
  {
   "cell_type": "code",
   "execution_count": 2,
   "metadata": {},
   "outputs": [],
   "source": [
    "with open('./sequence_data.pickle', 'rb') as f:\n",
    "    sequence_data = pickle.load(f)\n",
    "    \n",
    "with open('./numerical_data.pickle', 'rb') as f:\n",
    "    numeric_data = pickle.load(f)\n",
    "    \n",
    "X_seq, y = sequence_data\n",
    "X_num, y = numeric_data\n",
    "\n",
    "X = np.concatenate([X_num, X_seq], axis=1)\n",
    "\n",
    "x_train, x_test, y_train, y_test = train_test_split(X, y, test_size=.33)\n",
    "\n",
    "num_train = x_train[:, :8]\n",
    "seq_train = x_train  \n",
    "\n",
    "num_test = x_test[:, :8]\n",
    "seq_test = x_test  \n",
    "\n",
    "xc_train = [num_train, seq_train] \n",
    "xc_test = [num_test, seq_test] "
   ]
  },
  {
   "cell_type": "code",
   "execution_count": 3,
   "metadata": {},
   "outputs": [],
   "source": [
    "def false_neg(preds, y_test):\n",
    "    fn = 0\n",
    "    for i in range(len(preds)): \n",
    "        if preds[i]==0 and y_test[i]!=preds[i]:\n",
    "            fn += 1\n",
    "\n",
    "    return fn / len(y_test)\n",
    "\n",
    "def evaluate(preds, y_test):\n",
    "    print(f'Accuracy Score: {round(accuracy_score(preds, y_test)*100, 2)}%')\n",
    "    print(f'AUC ROC Score: {round(roc_auc_score(preds, y_test)*100, 2)}%')\n",
    "    print('\\n__CLASSIFICATION REPORT__:')\n",
    "    print(classification_report(preds, y_test))\n",
    "    print('\\n__CONFUSION MATRIX__:')\n",
    "    print(confusion_matrix(preds, y_test)/len(y_test))\n",
    "    print('\\n__FALSE NEGATIVE RATE__:')\n",
    "    print(f'{round(false_neg(preds, y_test)*100,2)}%')"
   ]
  },
  {
   "cell_type": "code",
   "execution_count": 4,
   "metadata": {},
   "outputs": [
    {
     "name": "stderr",
     "output_type": "stream",
     "text": [
      "INFO:plaidml:Opening device \"metal_amd_radeon_pro_570x.0\"\n"
     ]
    }
   ],
   "source": [
    "# Random Forest\n",
    "rf = joblib.load('./random_forest_model.2.joblib')\n",
    "\n",
    "# combined deep learning model\n",
    "cm = load_model('combined_cnn_mlp_model.3.1.917.h5')"
   ]
  },
  {
   "cell_type": "markdown",
   "metadata": {},
   "source": [
    "### Random Forest Evaluation"
   ]
  },
  {
   "cell_type": "code",
   "execution_count": 5,
   "metadata": {},
   "outputs": [
    {
     "name": "stdout",
     "output_type": "stream",
     "text": [
      "Accuracy Score: 94.58%\n",
      "AUC ROC Score: 94.63%\n",
      "\n",
      "__CLASSIFICATION REPORT__:\n",
      "              precision    recall  f1-score   support\n",
      "\n",
      "           0       0.96      0.93      0.95     11706\n",
      "           1       0.93      0.96      0.94     10895\n",
      "\n",
      "    accuracy                           0.95     22601\n",
      "   macro avg       0.95      0.95      0.95     22601\n",
      "weighted avg       0.95      0.95      0.95     22601\n",
      "\n",
      "\n",
      "__CONFUSION MATRIX__:\n",
      "[[0.48250077 0.03544091]\n",
      " [0.01876023 0.46329808]]\n",
      "\n",
      "__FALSE NEGATIVE RATE__:\n",
      "3.54%\n"
     ]
    }
   ],
   "source": [
    "rf_preds = rf.predict(x_test)\n",
    "evaluate(rf_preds, y_test)"
   ]
  },
  {
   "cell_type": "markdown",
   "metadata": {},
   "source": [
    "### Deep Learning Evaluation"
   ]
  },
  {
   "cell_type": "code",
   "execution_count": 6,
   "metadata": {},
   "outputs": [
    {
     "name": "stdout",
     "output_type": "stream",
     "text": [
      "Accuracy Score: 92.55%\n",
      "AUC ROC Score: 92.57%\n",
      "\n",
      "__CLASSIFICATION REPORT__:\n",
      "              precision    recall  f1-score   support\n",
      "\n",
      "         0.0       0.94      0.92      0.93     11550\n",
      "         1.0       0.92      0.93      0.92     11051\n",
      "\n",
      "    accuracy                           0.93     22601\n",
      "   macro avg       0.93      0.93      0.93     22601\n",
      "weighted avg       0.93      0.93      0.93     22601\n",
      "\n",
      "\n",
      "__CONFUSION MATRIX__:\n",
      "[[0.4689173  0.04212203]\n",
      " [0.0323437  0.45661696]]\n",
      "\n",
      "__FALSE NEGATIVE RATE__:\n",
      "4.21%\n"
     ]
    }
   ],
   "source": [
    "input_data = [x_test[:, :8], x_test[:, 8:]]\n",
    "cm_preds = cm.predict(input_data)\n",
    "evaluate(np.rint(cm_preds), y_test)"
   ]
  },
  {
   "cell_type": "code",
   "execution_count": null,
   "metadata": {},
   "outputs": [],
   "source": []
  }
 ],
 "metadata": {
  "kernelspec": {
   "display_name": "Python 3",
   "language": "python",
   "name": "python3"
  },
  "language_info": {
   "codemirror_mode": {
    "name": "ipython",
    "version": 3
   },
   "file_extension": ".py",
   "mimetype": "text/x-python",
   "name": "python",
   "nbconvert_exporter": "python",
   "pygments_lexer": "ipython3",
   "version": "3.7.4"
  }
 },
 "nbformat": 4,
 "nbformat_minor": 2
}
