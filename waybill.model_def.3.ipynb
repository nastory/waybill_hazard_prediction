{
 "cells": [
  {
   "cell_type": "markdown",
   "metadata": {},
   "source": [
    "# Model Definition 3\n",
    "\n",
    "In this definition, we're going to trim the fat, so to speak, off of our neural networks. We'll be pairing the CNN and MLP each down to only one hidden layer to see how performance is impacted.\n",
    "\n",
    "Let's go!"
   ]
  },
  {
   "cell_type": "code",
   "execution_count": 3,
   "metadata": {},
   "outputs": [],
   "source": [
    "import pickle\n",
    "import pandas as pd\n",
    "import numpy as np\n",
    "import matplotlib.pyplot as plt\n",
    "import joblib\n",
    "\n",
    "import plaidml.keras as pk\n",
    "pk.install_backend()\n",
    "\n",
    "from sklearn.ensemble import RandomForestClassifier\n",
    "from sklearn.model_selection import train_test_split, RandomizedSearchCV\n",
    "from sklearn.metrics import roc_auc_score, accuracy_score, classification_report\n",
    "from keras.callbacks import ReduceLROnPlateau, ModelCheckpoint, EarlyStopping\n",
    "\n",
    "from keras.models import Sequential, Model, load_model\n",
    "from keras.layers import Dense, Conv1D, Dropout, LeakyReLU, MaxPooling1D, Embedding, Flatten, Input, Concatenate"
   ]
  },
  {
   "cell_type": "markdown",
   "metadata": {},
   "source": [
    "### Reading in training and validation data"
   ]
  },
  {
   "cell_type": "code",
   "execution_count": 4,
   "metadata": {},
   "outputs": [],
   "source": [
    "with open('./sequence_data.pickle', 'rb') as f:\n",
    "    sequence_data = pickle.load(f)\n",
    "    \n",
    "with open('./numerical_data.pickle', 'rb') as f:\n",
    "    numeric_data = pickle.load(f)"
   ]
  },
  {
   "cell_type": "code",
   "execution_count": 5,
   "metadata": {},
   "outputs": [],
   "source": [
    "X_seq, y = sequence_data"
   ]
  },
  {
   "cell_type": "code",
   "execution_count": 6,
   "metadata": {},
   "outputs": [],
   "source": [
    "X_num, y = numeric_data"
   ]
  },
  {
   "cell_type": "code",
   "execution_count": 7,
   "metadata": {},
   "outputs": [
    {
     "name": "stdout",
     "output_type": "stream",
     "text": [
      "(68486, 5)\n",
      "(68486, 8)\n",
      "(68486,)\n"
     ]
    }
   ],
   "source": [
    "print(X_seq.shape)\n",
    "print(X_num.shape)\n",
    "print(y.shape)"
   ]
  },
  {
   "cell_type": "code",
   "execution_count": 8,
   "metadata": {},
   "outputs": [],
   "source": [
    "X = np.concatenate([X_num, X_seq], axis=1)\n",
    "\n",
    "x_train, x_test, y_train, y_test = train_test_split(X, y, test_size=.33)"
   ]
  },
  {
   "cell_type": "code",
   "execution_count": 9,
   "metadata": {},
   "outputs": [],
   "source": [
    "xs_train, xs_test, ys_train, ys_test = train_test_split(X_seq, y, test_size=.33)\n",
    "xn_train, xn_test, yn_train, yn_test = train_test_split(X_num, y, test_size=.33)"
   ]
  },
  {
   "cell_type": "markdown",
   "metadata": {},
   "source": [
    "### DeepLearning Methods:"
   ]
  },
  {
   "cell_type": "code",
   "execution_count": 10,
   "metadata": {},
   "outputs": [],
   "source": [
    "vocab_size = 300\n",
    "max_length = 5\n",
    "batch_size = 32"
   ]
  },
  {
   "cell_type": "markdown",
   "metadata": {},
   "source": [
    "### Mixed Model"
   ]
  },
  {
   "cell_type": "code",
   "execution_count": 20,
   "metadata": {},
   "outputs": [],
   "source": [
    "def build_model():\n",
    "\n",
    "    # cnn with only 1 dense layer\n",
    "    seq_input = Input(shape=(max_length,))\n",
    "\n",
    "    x = Embedding(vocab_size, 3, input_length=max_length)(seq_input)\n",
    "\n",
    "    x = Conv1D(256, kernel_size=3, strides=1)(x)\n",
    "    x = LeakyReLU()(x)\n",
    "    x = MaxPooling1D(pool_size=2)(x)\n",
    "\n",
    "    x = Flatten()(x)\n",
    "\n",
    "    seq_output = Dense(64, activation='relu')(x)\n",
    "\n",
    "    cnn = Model(inputs=seq_input, outputs=seq_output)\n",
    "\n",
    "    # mlp with only one dense layer\n",
    "    num_input = Input(shape=(8,))\n",
    "\n",
    "    mlp_output = Dense(64, activation='relu')(num_input)\n",
    "\n",
    "    mlp = Model(inputs=num_input, outputs=mlp_output)\n",
    "\n",
    "    # combine\n",
    "    combined = Concatenate()([cnn.output, mlp.output])\n",
    "    \n",
    "    z = Dense(512)(combined)\n",
    "    z = LeakyReLU()(z)\n",
    "    z = Dropout(.5)(z)\n",
    "    \n",
    "    z = Dense(512)(z)\n",
    "    z = LeakyReLU()(z)\n",
    "    z = Dropout(.2)(z)\n",
    "    \n",
    "    z = Dense(256)(z)\n",
    "    z = LeakyReLU()(z)\n",
    "    z = Dropout(.2)(z)\n",
    "    \n",
    "    z = Dense(64)(z)\n",
    "    z = LeakyReLU()(z)\n",
    "    z = Dropout(.2)(z)\n",
    "    \n",
    "    output = Dense(1, activation='sigmoid')(z)\n",
    "\n",
    "    final_model = Model(inputs=mlp.inputs + cnn.inputs, outputs=[output])\n",
    "\n",
    "    final_model.compile(optimizer='adam', loss='binary_crossentropy', metrics=['acc'])\n",
    "    \n",
    "    return final_model"
   ]
  },
  {
   "cell_type": "code",
   "execution_count": 21,
   "metadata": {},
   "outputs": [],
   "source": [
    "model = build_model()"
   ]
  },
  {
   "cell_type": "code",
   "execution_count": 22,
   "metadata": {},
   "outputs": [],
   "source": [
    "num_train = x_train[:, :8]\n",
    "seq_train = x_train[:, 8:]\n",
    "\n",
    "num_test = x_test[:, :8]\n",
    "seq_test = x_test[:, 8:]\n",
    "\n",
    "xc_train = [num_train, seq_train] \n",
    "xc_test = [num_test, seq_test] "
   ]
  },
  {
   "cell_type": "code",
   "execution_count": 23,
   "metadata": {},
   "outputs": [],
   "source": [
    "learning_rate_reduction_combined = ReduceLROnPlateau(monitor='val_acc', patience=3, \n",
    "                                            verbose=2, factor=0.5, min_lr=0.00001)\n",
    "\n",
    "best_model_combined = ModelCheckpoint('./combined_cnn_mlp_model.3.h5', monitor='val_acc', verbose=2, \n",
    "                             save_best_only=True, mode='max')\n",
    "\n",
    "early_stopping_combined = EarlyStopping(monitor='val_loss', min_delta=1e-10, \n",
    "                               patience=10, restore_best_weights=True)"
   ]
  },
  {
   "cell_type": "code",
   "execution_count": 24,
   "metadata": {},
   "outputs": [
    {
     "name": "stdout",
     "output_type": "stream",
     "text": [
      "Train on 45885 samples, validate on 22601 samples\n",
      "Epoch 1/50\n",
      "45885/45885 [==============================] - 15s 316us/step - loss: 0.3348 - acc: 0.8804 - val_loss: 0.3112 - val_acc: 0.8946\n",
      "\n",
      "Epoch 00001: val_acc improved from -inf to 0.89461, saving model to ./combined_cnn_mlp_model.3.h5\n",
      "Epoch 2/50\n",
      "45885/45885 [==============================] - 10s 228us/step - loss: 0.3036 - acc: 0.8951 - val_loss: 0.2878 - val_acc: 0.8991\n",
      "\n",
      "Epoch 00002: val_acc improved from 0.89461 to 0.89908, saving model to ./combined_cnn_mlp_model.3.h5\n",
      "Epoch 3/50\n",
      "45885/45885 [==============================] - 10s 226us/step - loss: 0.2926 - acc: 0.8971 - val_loss: 0.2841 - val_acc: 0.8959\n",
      "\n",
      "Epoch 00003: val_acc did not improve from 0.89908\n",
      "Epoch 4/50\n",
      "45885/45885 [==============================] - 10s 223us/step - loss: 0.2851 - acc: 0.9001 - val_loss: 0.2706 - val_acc: 0.9003\n",
      "\n",
      "Epoch 00004: val_acc improved from 0.89908 to 0.90027, saving model to ./combined_cnn_mlp_model.3.h5\n",
      "Epoch 5/50\n",
      "45885/45885 [==============================] - 10s 221us/step - loss: 0.2783 - acc: 0.9022 - val_loss: 0.2678 - val_acc: 0.9042\n",
      "\n",
      "Epoch 00005: val_acc improved from 0.90027 to 0.90421, saving model to ./combined_cnn_mlp_model.3.h5\n",
      "Epoch 6/50\n",
      "45885/45885 [==============================] - 10s 221us/step - loss: 0.2730 - acc: 0.9047 - val_loss: 0.2792 - val_acc: 0.8995\n",
      "\n",
      "Epoch 00006: val_acc did not improve from 0.90421\n",
      "Epoch 7/50\n",
      "45885/45885 [==============================] - 10s 219us/step - loss: 0.2700 - acc: 0.9056 - val_loss: 0.2728 - val_acc: 0.8974\n",
      "\n",
      "Epoch 00007: val_acc did not improve from 0.90421\n",
      "Epoch 8/50\n",
      "45885/45885 [==============================] - 10s 219us/step - loss: 0.2666 - acc: 0.9080 - val_loss: 0.2558 - val_acc: 0.9092\n",
      "\n",
      "Epoch 00008: val_acc improved from 0.90421 to 0.90921, saving model to ./combined_cnn_mlp_model.3.h5\n",
      "Epoch 9/50\n",
      "45885/45885 [==============================] - 10s 218us/step - loss: 0.2627 - acc: 0.9089 - val_loss: 0.2563 - val_acc: 0.9055\n",
      "\n",
      "Epoch 00009: val_acc did not improve from 0.90921\n",
      "Epoch 10/50\n",
      "45885/45885 [==============================] - 10s 218us/step - loss: 0.2604 - acc: 0.9101 - val_loss: 0.2571 - val_acc: 0.9105\n",
      "\n",
      "Epoch 00010: val_acc improved from 0.90921 to 0.91053, saving model to ./combined_cnn_mlp_model.3.h5\n",
      "Epoch 11/50\n",
      "45885/45885 [==============================] - 10s 217us/step - loss: 0.2590 - acc: 0.9100 - val_loss: 0.2546 - val_acc: 0.9101\n",
      "\n",
      "Epoch 00011: val_acc did not improve from 0.91053\n",
      "Epoch 12/50\n",
      "45885/45885 [==============================] - 10s 218us/step - loss: 0.2559 - acc: 0.9106 - val_loss: 0.2544 - val_acc: 0.9116\n",
      "\n",
      "Epoch 00012: val_acc improved from 0.91053 to 0.91155, saving model to ./combined_cnn_mlp_model.3.h5\n",
      "Epoch 13/50\n",
      "45885/45885 [==============================] - 10s 217us/step - loss: 0.2531 - acc: 0.9121 - val_loss: 0.2517 - val_acc: 0.9103\n",
      "\n",
      "Epoch 00013: val_acc did not improve from 0.91155\n",
      "Epoch 14/50\n",
      "45885/45885 [==============================] - 10s 217us/step - loss: 0.2520 - acc: 0.9121 - val_loss: 0.2491 - val_acc: 0.9119\n",
      "\n",
      "Epoch 00014: val_acc improved from 0.91155 to 0.91191, saving model to ./combined_cnn_mlp_model.3.h5\n",
      "Epoch 15/50\n",
      "45885/45885 [==============================] - 10s 217us/step - loss: 0.2497 - acc: 0.9132 - val_loss: 0.2622 - val_acc: 0.9121\n",
      "\n",
      "Epoch 00015: val_acc improved from 0.91191 to 0.91213, saving model to ./combined_cnn_mlp_model.3.h5\n",
      "Epoch 16/50\n",
      "45885/45885 [==============================] - 10s 216us/step - loss: 0.2501 - acc: 0.9129 - val_loss: 0.2538 - val_acc: 0.9113\n",
      "\n",
      "Epoch 00016: val_acc did not improve from 0.91213\n",
      "Epoch 17/50\n",
      "45885/45885 [==============================] - 10s 217us/step - loss: 0.2476 - acc: 0.9139 - val_loss: 0.2535 - val_acc: 0.9117\n",
      "\n",
      "Epoch 00017: val_acc did not improve from 0.91213\n",
      "Epoch 18/50\n",
      "45885/45885 [==============================] - 10s 217us/step - loss: 0.2473 - acc: 0.9138 - val_loss: 0.2475 - val_acc: 0.9120\n",
      "\n",
      "Epoch 00018: ReduceLROnPlateau reducing learning rate to 0.0005000000237487257.\n",
      "\n",
      "Epoch 00018: val_acc did not improve from 0.91213\n",
      "Epoch 19/50\n",
      "45885/45885 [==============================] - 10s 217us/step - loss: 0.2359 - acc: 0.9167 - val_loss: 0.2524 - val_acc: 0.9117\n",
      "\n",
      "Epoch 00019: val_acc did not improve from 0.91213\n",
      "Epoch 20/50\n",
      "45885/45885 [==============================] - 10s 216us/step - loss: 0.2344 - acc: 0.9172 - val_loss: 0.2467 - val_acc: 0.9141\n",
      "\n",
      "Epoch 00020: val_acc improved from 0.91213 to 0.91407, saving model to ./combined_cnn_mlp_model.3.h5\n",
      "Epoch 21/50\n",
      "45885/45885 [==============================] - 10s 216us/step - loss: 0.2333 - acc: 0.9177 - val_loss: 0.2443 - val_acc: 0.9126\n",
      "\n",
      "Epoch 00021: val_acc did not improve from 0.91407\n",
      "Epoch 22/50\n",
      "45885/45885 [==============================] - 10s 222us/step - loss: 0.2306 - acc: 0.9179 - val_loss: 0.2471 - val_acc: 0.9137\n",
      "\n",
      "Epoch 00022: val_acc did not improve from 0.91407\n",
      "Epoch 23/50\n",
      "45885/45885 [==============================] - 10s 222us/step - loss: 0.2301 - acc: 0.9184 - val_loss: 0.2496 - val_acc: 0.9145\n",
      "\n",
      "Epoch 00023: val_acc improved from 0.91407 to 0.91447, saving model to ./combined_cnn_mlp_model.3.h5\n",
      "Epoch 24/50\n",
      "45885/45885 [==============================] - 10s 222us/step - loss: 0.2309 - acc: 0.9181 - val_loss: 0.2458 - val_acc: 0.9144\n",
      "\n",
      "Epoch 00024: val_acc did not improve from 0.91447\n",
      "Epoch 25/50\n",
      "45885/45885 [==============================] - 10s 224us/step - loss: 0.2293 - acc: 0.9190 - val_loss: 0.2429 - val_acc: 0.9156\n",
      "\n",
      "Epoch 00025: val_acc improved from 0.91447 to 0.91558, saving model to ./combined_cnn_mlp_model.3.h5\n",
      "Epoch 26/50\n",
      "45885/45885 [==============================] - 10s 222us/step - loss: 0.2273 - acc: 0.9183 - val_loss: 0.2423 - val_acc: 0.9140\n",
      "\n",
      "Epoch 00026: val_acc did not improve from 0.91558\n",
      "Epoch 27/50\n",
      "45885/45885 [==============================] - 10s 222us/step - loss: 0.2269 - acc: 0.9189 - val_loss: 0.2433 - val_acc: 0.9145\n",
      "\n",
      "Epoch 00027: val_acc did not improve from 0.91558\n",
      "Epoch 28/50\n",
      "45885/45885 [==============================] - 10s 223us/step - loss: 0.2279 - acc: 0.9193 - val_loss: 0.2431 - val_acc: 0.9154\n",
      "\n",
      "Epoch 00028: ReduceLROnPlateau reducing learning rate to 0.0002500000118743628.\n",
      "\n",
      "Epoch 00028: val_acc did not improve from 0.91558\n",
      "Epoch 29/50\n",
      "45885/45885 [==============================] - 10s 222us/step - loss: 0.2218 - acc: 0.9209 - val_loss: 0.2441 - val_acc: 0.9160\n",
      "\n",
      "Epoch 00029: val_acc improved from 0.91558 to 0.91602, saving model to ./combined_cnn_mlp_model.3.h5\n",
      "Epoch 30/50\n",
      "45885/45885 [==============================] - 10s 222us/step - loss: 0.2203 - acc: 0.9214 - val_loss: 0.2456 - val_acc: 0.9166\n",
      "\n",
      "Epoch 00030: val_acc improved from 0.91602 to 0.91655, saving model to ./combined_cnn_mlp_model.3.h5\n",
      "Epoch 31/50\n",
      "45885/45885 [==============================] - 10s 223us/step - loss: 0.2196 - acc: 0.9219 - val_loss: 0.2426 - val_acc: 0.9163\n",
      "\n",
      "Epoch 00031: val_acc did not improve from 0.91655\n",
      "Epoch 32/50\n",
      "45885/45885 [==============================] - 10s 223us/step - loss: 0.2195 - acc: 0.9221 - val_loss: 0.2436 - val_acc: 0.9158\n",
      "\n",
      "Epoch 00032: val_acc did not improve from 0.91655\n",
      "Epoch 33/50\n",
      "45885/45885 [==============================] - 10s 223us/step - loss: 0.2186 - acc: 0.9222 - val_loss: 0.2416 - val_acc: 0.9154\n",
      "\n",
      "Epoch 00033: ReduceLROnPlateau reducing learning rate to 0.0001250000059371814.\n",
      "\n",
      "Epoch 00033: val_acc did not improve from 0.91655\n",
      "Epoch 34/50\n",
      "45885/45885 [==============================] - 10s 223us/step - loss: 0.2145 - acc: 0.9235 - val_loss: 0.2403 - val_acc: 0.9170\n",
      "\n",
      "Epoch 00034: val_acc improved from 0.91655 to 0.91704, saving model to ./combined_cnn_mlp_model.3.h5\n",
      "Epoch 35/50\n",
      "45885/45885 [==============================] - 10s 223us/step - loss: 0.2142 - acc: 0.9233 - val_loss: 0.2413 - val_acc: 0.9170\n",
      "\n",
      "Epoch 00035: val_acc did not improve from 0.91704\n",
      "Epoch 36/50\n",
      "45885/45885 [==============================] - 10s 223us/step - loss: 0.2135 - acc: 0.9236 - val_loss: 0.2412 - val_acc: 0.9180\n",
      "\n",
      "Epoch 00036: val_acc improved from 0.91704 to 0.91797, saving model to ./combined_cnn_mlp_model.3.h5\n",
      "Epoch 37/50\n",
      "45885/45885 [==============================] - 10s 224us/step - loss: 0.2125 - acc: 0.9240 - val_loss: 0.2442 - val_acc: 0.9170\n",
      "\n",
      "Epoch 00037: val_acc did not improve from 0.91797\n",
      "Epoch 38/50\n",
      "45885/45885 [==============================] - 10s 222us/step - loss: 0.2127 - acc: 0.9245 - val_loss: 0.2430 - val_acc: 0.9173\n",
      "\n",
      "Epoch 00038: val_acc did not improve from 0.91797\n",
      "Epoch 39/50\n",
      "45885/45885 [==============================] - 10s 222us/step - loss: 0.2124 - acc: 0.9239 - val_loss: 0.2438 - val_acc: 0.9162\n",
      "\n",
      "Epoch 00039: ReduceLROnPlateau reducing learning rate to 6.25000029685907e-05.\n",
      "\n",
      "Epoch 00039: val_acc did not improve from 0.91797\n",
      "Epoch 40/50\n",
      "45885/45885 [==============================] - 10s 221us/step - loss: 0.2105 - acc: 0.9248 - val_loss: 0.2424 - val_acc: 0.9180\n",
      "\n",
      "Epoch 00040: val_acc did not improve from 0.91797\n",
      "Epoch 41/50\n",
      "45885/45885 [==============================] - 10s 221us/step - loss: 0.2098 - acc: 0.9247 - val_loss: 0.2441 - val_acc: 0.9174\n",
      "\n",
      "Epoch 00041: val_acc did not improve from 0.91797\n",
      "Epoch 42/50\n",
      "45885/45885 [==============================] - 10s 222us/step - loss: 0.2090 - acc: 0.9249 - val_loss: 0.2435 - val_acc: 0.9172\n",
      "\n",
      "Epoch 00042: ReduceLROnPlateau reducing learning rate to 3.125000148429535e-05.\n",
      "\n",
      "Epoch 00042: val_acc did not improve from 0.91797\n",
      "Epoch 43/50\n",
      "45885/45885 [==============================] - 10s 224us/step - loss: 0.2085 - acc: 0.9258 - val_loss: 0.2444 - val_acc: 0.9174\n",
      "\n",
      "Epoch 00043: val_acc did not improve from 0.91797\n",
      "Epoch 44/50\n",
      "45885/45885 [==============================] - 10s 222us/step - loss: 0.2085 - acc: 0.9253 - val_loss: 0.2433 - val_acc: 0.9177\n",
      "\n",
      "Epoch 00044: val_acc did not improve from 0.91797\n"
     ]
    }
   ],
   "source": [
    "hist = model.fit(xc_train, y_train,\n",
    "         batch_size=batch_size,\n",
    "         epochs=50,\n",
    "         validation_data=(xc_test, y_test),\n",
    "         callbacks = [learning_rate_reduction_combined, best_model_combined, early_stopping_combined],\n",
    "         verbose=1\n",
    ")"
   ]
  },
  {
   "cell_type": "markdown",
   "metadata": {},
   "source": [
    "We actually did get a performance boost by pruning our model! We improved from our best model, scoring 91.0%, to 91.7%.\n",
    "\n",
    "I think this is about as much information as we can get out of our currently engineered data. Let's do another round of feature engineering and try simply one-hot encoding the route data."
   ]
  },
  {
   "cell_type": "markdown",
   "metadata": {},
   "source": [
    " "
   ]
  }
 ],
 "metadata": {
  "kernelspec": {
   "display_name": "Python 3",
   "language": "python",
   "name": "python3"
  },
  "language_info": {
   "codemirror_mode": {
    "name": "ipython",
    "version": 3
   },
   "file_extension": ".py",
   "mimetype": "text/x-python",
   "name": "python",
   "nbconvert_exporter": "python",
   "pygments_lexer": "ipython3",
   "version": "3.7.4"
  }
 },
 "nbformat": 4,
 "nbformat_minor": 2
}
