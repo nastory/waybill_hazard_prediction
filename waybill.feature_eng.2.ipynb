{
 "cells": [
  {
   "cell_type": "markdown",
   "metadata": {},
   "source": [
    "# Feature Engineering 2\n",
    "\n",
    "The features chosen for the first iterations of modeling led to some very good models -- each scoring above 90% accuracy with very low false positive rates (3% - 4.5%).\n",
    "\n",
    "Now we'll do a comparison with a different feature engineering paradigm. Rather than treating the routes as \"route sentences\" we'll do a simple one-hot encoding of the interchange states and origin and destination points to see how the models compare. We'll also, downstream, be using a simpler 1D CNN model, rather than the hybrid MLP/CNN model we used for the other features."
   ]
  },
  {
   "cell_type": "code",
   "execution_count": 1,
   "metadata": {},
   "outputs": [],
   "source": [
    "import pandas as pd\n",
    "import numpy as np\n",
    "\n",
    "import plaidml.keras as pk\n",
    "pk.install_backend()\n",
    "from keras.preprocessing.text import one_hot\n",
    "from keras.preprocessing.sequence import pad_sequences\n",
    "from sklearn.preprocessing import MinMaxScaler, OneHotEncoder\n",
    "\n",
    "import pickle"
   ]
  },
  {
   "cell_type": "code",
   "execution_count": 2,
   "metadata": {},
   "outputs": [
    {
     "data": {
      "text/html": [
       "<div>\n",
       "<style scoped>\n",
       "    .dataframe tbody tr th:only-of-type {\n",
       "        vertical-align: middle;\n",
       "    }\n",
       "\n",
       "    .dataframe tbody tr th {\n",
       "        vertical-align: top;\n",
       "    }\n",
       "\n",
       "    .dataframe thead th {\n",
       "        text-align: right;\n",
       "    }\n",
       "</style>\n",
       "<table border=\"1\" class=\"dataframe\">\n",
       "  <thead>\n",
       "    <tr style=\"text-align: right;\">\n",
       "      <th></th>\n",
       "      <th>is_hazardous</th>\n",
       "      <th>car_ownership_category_code</th>\n",
       "      <th>all_rail_intermodal_code</th>\n",
       "      <th>estimated_short_line_miles</th>\n",
       "      <th>number_of_articulated_units</th>\n",
       "      <th>origin_location</th>\n",
       "      <th>interchange_state_1</th>\n",
       "      <th>interchange_state_2</th>\n",
       "      <th>interchange_state_3</th>\n",
       "      <th>terminal_location</th>\n",
       "    </tr>\n",
       "  </thead>\n",
       "  <tbody>\n",
       "    <tr>\n",
       "      <td>0</td>\n",
       "      <td>1</td>\n",
       "      <td>P</td>\n",
       "      <td>1</td>\n",
       "      <td>2120</td>\n",
       "      <td>0</td>\n",
       "      <td>Chicago-Gary-Kenosha, IL-IN-WI</td>\n",
       "      <td>NaN</td>\n",
       "      <td>NaN</td>\n",
       "      <td>NaN</td>\n",
       "      <td>Los Angeles-Riverside-Orange County, CA-AZ</td>\n",
       "    </tr>\n",
       "    <tr>\n",
       "      <td>1</td>\n",
       "      <td>1</td>\n",
       "      <td>P</td>\n",
       "      <td>9</td>\n",
       "      <td>810</td>\n",
       "      <td>0</td>\n",
       "      <td>Chicago-Gary-Kenosha, IL-IN-WI</td>\n",
       "      <td>NaN</td>\n",
       "      <td>NaN</td>\n",
       "      <td>NaN</td>\n",
       "      <td>Philadelphia-Wilmington-Atlantic City, PA-NJ-D...</td>\n",
       "    </tr>\n",
       "    <tr>\n",
       "      <td>2</td>\n",
       "      <td>1</td>\n",
       "      <td>P</td>\n",
       "      <td>1</td>\n",
       "      <td>350</td>\n",
       "      <td>0</td>\n",
       "      <td>New Orleans, LA-MS</td>\n",
       "      <td>AL</td>\n",
       "      <td>NaN</td>\n",
       "      <td>NaN</td>\n",
       "      <td>Birmingham, AL</td>\n",
       "    </tr>\n",
       "    <tr>\n",
       "      <td>3</td>\n",
       "      <td>1</td>\n",
       "      <td>P</td>\n",
       "      <td>9</td>\n",
       "      <td>2470</td>\n",
       "      <td>4</td>\n",
       "      <td>Baton Rouge, LA-MS</td>\n",
       "      <td>IL</td>\n",
       "      <td>AB</td>\n",
       "      <td>NaN</td>\n",
       "      <td>Alberta</td>\n",
       "    </tr>\n",
       "    <tr>\n",
       "      <td>4</td>\n",
       "      <td>1</td>\n",
       "      <td>P</td>\n",
       "      <td>1</td>\n",
       "      <td>860</td>\n",
       "      <td>0</td>\n",
       "      <td>Chicago-Gary-Kenosha, IL-IN-WI</td>\n",
       "      <td>NaN</td>\n",
       "      <td>NaN</td>\n",
       "      <td>NaN</td>\n",
       "      <td>Shreveport-Bossier City, LA-AR</td>\n",
       "    </tr>\n",
       "  </tbody>\n",
       "</table>\n",
       "</div>"
      ],
      "text/plain": [
       "   is_hazardous car_ownership_category_code  all_rail_intermodal_code  \\\n",
       "0             1                           P                         1   \n",
       "1             1                           P                         9   \n",
       "2             1                           P                         1   \n",
       "3             1                           P                         9   \n",
       "4             1                           P                         1   \n",
       "\n",
       "   estimated_short_line_miles  number_of_articulated_units  \\\n",
       "0                        2120                            0   \n",
       "1                         810                            0   \n",
       "2                         350                            0   \n",
       "3                        2470                            4   \n",
       "4                         860                            0   \n",
       "\n",
       "                  origin_location interchange_state_1 interchange_state_2  \\\n",
       "0  Chicago-Gary-Kenosha, IL-IN-WI                 NaN                 NaN   \n",
       "1  Chicago-Gary-Kenosha, IL-IN-WI                 NaN                 NaN   \n",
       "2              New Orleans, LA-MS                  AL                 NaN   \n",
       "3              Baton Rouge, LA-MS                  IL                  AB   \n",
       "4  Chicago-Gary-Kenosha, IL-IN-WI                 NaN                 NaN   \n",
       "\n",
       "  interchange_state_3                                  terminal_location  \n",
       "0                 NaN         Los Angeles-Riverside-Orange County, CA-AZ  \n",
       "1                 NaN  Philadelphia-Wilmington-Atlantic City, PA-NJ-D...  \n",
       "2                 NaN                                     Birmingham, AL  \n",
       "3                 NaN                                            Alberta  \n",
       "4                 NaN                     Shreveport-Bossier City, LA-AR  "
      ]
     },
     "execution_count": 2,
     "metadata": {},
     "output_type": "execute_result"
    }
   ],
   "source": [
    "df = pd.read_csv('./waybill_relevant_data.csv', low_memory=False)\n",
    "df.replace('', np.nan, inplace=True)\n",
    "df.head()"
   ]
  },
  {
   "cell_type": "code",
   "execution_count": 3,
   "metadata": {},
   "outputs": [],
   "source": [
    "num_cols = [\n",
    "    'estimated_short_line_miles',\n",
    "    'number_of_articulated_units'\n",
    "]\n",
    "\n",
    "cat_cols = [\n",
    "    'car_ownership_category_code', \n",
    "    'all_rail_intermodal_code',\n",
    "    'origin_location',\n",
    "    'interchange_state_1',\n",
    "    'interchange_state_2',\n",
    "    'interchange_state_3',\n",
    "    'terminal_location'\n",
    "]"
   ]
  },
  {
   "cell_type": "code",
   "execution_count": 4,
   "metadata": {},
   "outputs": [],
   "source": [
    "nums = df[num_cols]\n",
    "cats = df[cat_cols].astype(str)"
   ]
  },
  {
   "cell_type": "code",
   "execution_count": 16,
   "metadata": {},
   "outputs": [
    {
     "data": {
      "text/plain": [
       "(68486, 418)"
      ]
     },
     "execution_count": 16,
     "metadata": {},
     "output_type": "execute_result"
    }
   ],
   "source": [
    "# df['all_rail_intermodal_code'] = df['all_rail_intermodal_code'].astype(str)\n",
    "# encoded_cats = pd.get_dummies(cats)\n",
    "# encoded_cats.head()\n",
    "\n",
    "encoder = OneHotEncoder()\n",
    "encoder.fit(df[cat_cols].fillna('None'))\n",
    "encoded_cats = encoder.transform(df[cat_cols].fillna('None'))\n",
    "encoded_cats.shape"
   ]
  },
  {
   "cell_type": "markdown",
   "metadata": {},
   "source": [
    "We will pickle the encoder and scaler for use in our deployment."
   ]
  },
  {
   "cell_type": "code",
   "execution_count": 17,
   "metadata": {},
   "outputs": [],
   "source": [
    "with open('./encoder.2.pickle', 'wb') as f:\n",
    "    pickle.dump(encoder, f)"
   ]
  },
  {
   "cell_type": "code",
   "execution_count": 6,
   "metadata": {},
   "outputs": [],
   "source": [
    "X_cats = encoded_cats.to_numpy()"
   ]
  },
  {
   "cell_type": "code",
   "execution_count": 7,
   "metadata": {},
   "outputs": [
    {
     "data": {
      "text/plain": [
       "array([[0.38061041, 0.        ],\n",
       "       [0.1454219 , 0.        ],\n",
       "       [0.06283662, 0.        ],\n",
       "       [0.44344704, 0.8       ],\n",
       "       [0.15439856, 0.        ],\n",
       "       [0.27648115, 0.        ],\n",
       "       [0.04847397, 0.        ],\n",
       "       [0.01256732, 0.        ],\n",
       "       [0.04847397, 0.        ],\n",
       "       [0.11849192, 0.        ]])"
      ]
     },
     "execution_count": 7,
     "metadata": {},
     "output_type": "execute_result"
    }
   ],
   "source": [
    "scaler = MinMaxScaler()\n",
    "X_nums = scaler.fit_transform(nums)\n",
    "\n",
    "X_nums[:10]"
   ]
  },
  {
   "cell_type": "code",
   "execution_count": 8,
   "metadata": {},
   "outputs": [],
   "source": [
    "with open('./min_max_scaler.2.pickle', 'wb') as f:\n",
    "    pickle.dump(scaler, f)"
   ]
  },
  {
   "cell_type": "code",
   "execution_count": 9,
   "metadata": {},
   "outputs": [
    {
     "data": {
      "text/plain": [
       "(68486, 420)"
      ]
     },
     "execution_count": 9,
     "metadata": {},
     "output_type": "execute_result"
    }
   ],
   "source": [
    "X = np.concatenate([X_nums, X_cats], axis=1)\n",
    "X.shape"
   ]
  },
  {
   "cell_type": "markdown",
   "metadata": {},
   "source": [
    "We'll pickle the prepared data as well."
   ]
  },
  {
   "cell_type": "code",
   "execution_count": 12,
   "metadata": {},
   "outputs": [],
   "source": [
    "y = df['is_hazardous'].to_numpy()\n",
    "num_data = (X, y)\n",
    "\n",
    "with open('./big_dummy_data.pickle', 'wb') as f:\n",
    "    pickle.dump(num_data, f)"
   ]
  },
  {
   "cell_type": "markdown",
   "metadata": {},
   "source": [
    "Now we will feed this data into our waybill.model_def.4.new_features version."
   ]
  }
 ],
 "metadata": {
  "kernelspec": {
   "display_name": "Python 3",
   "language": "python",
   "name": "python3"
  },
  "language_info": {
   "codemirror_mode": {
    "name": "ipython",
    "version": 3
   },
   "file_extension": ".py",
   "mimetype": "text/x-python",
   "name": "python",
   "nbconvert_exporter": "python",
   "pygments_lexer": "ipython3",
   "version": "3.7.4"
  }
 },
 "nbformat": 4,
 "nbformat_minor": 2
}
