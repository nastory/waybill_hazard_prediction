{
 "cells": [
  {
   "cell_type": "markdown",
   "metadata": {},
   "source": [
    "# Hazardous Waste Prediction"
   ]
  },
  {
   "cell_type": "markdown",
   "metadata": {},
   "source": [
    "#### Input the rail car parameters below, and run all following cells for result"
   ]
  },
  {
   "cell_type": "code",
   "execution_count": 1,
   "metadata": {},
   "outputs": [],
   "source": [
    "## INPUTS ##\n",
    "origin = 'New Orleans, LA-MS'\n",
    "destination = 'Birmingham, AL'\n",
    "interchange_state_1 = 'AL'\n",
    "interchange_state_2 = 'None'\n",
    "interchange_state_3 = 'None'\n",
    "car_ownership_code = 'P' # P, R, T\n",
    "intermodal_code = 1 # 1, 2, 9\n",
    "shortline_miles = 350\n",
    "number_of_articulated_units = 0"
   ]
  },
  {
   "cell_type": "markdown",
   "metadata": {},
   "source": [
    "---"
   ]
  },
  {
   "cell_type": "code",
   "execution_count": 2,
   "metadata": {},
   "outputs": [],
   "source": [
    "import plaidml.keras as pk\n",
    "pk.install_backend()\n",
    "\n",
    "import numpy as np\n",
    "import pandas as pd\n",
    "import pickle\n",
    "from keras.models import load_model"
   ]
  },
  {
   "cell_type": "code",
   "execution_count": 3,
   "metadata": {},
   "outputs": [
    {
     "name": "stderr",
     "output_type": "stream",
     "text": [
      "INFO:plaidml:Opening device \"metal_amd_radeon_pro_570x.0\"\n"
     ]
    }
   ],
   "source": [
    "with open('encoder.2.pickle', 'rb') as f:\n",
    "    encoder = pickle.load(f)\n",
    "    \n",
    "with open('min_max_scaler.pickle', 'rb') as f:\n",
    "    scaler = pickle.load(f)\n",
    "    \n",
    "model = load_model('simple_cnn.1.h5')"
   ]
  },
  {
   "cell_type": "code",
   "execution_count": 4,
   "metadata": {},
   "outputs": [],
   "source": [
    "#origin = origin.replace(', ', '').replace(' ', '').replace('-', '')\n",
    "#destination = destination.replace(', ', '').replace(' ', '').replace('-', '')\n",
    "\n",
    "data_dict = {\n",
    "    'estimated_short_line_miles': [shortline_miles], \n",
    "    'number_of_articulated_units': [number_of_articulated_units],\n",
    "    'car_ownership_category_code': [car_ownership_code],\n",
    "    'all_rail_intermodal_code': [intermodal_code],\n",
    "    'origin_location': [origin],\n",
    "    'interchange_state_1': [interchange_state_1],\n",
    "    'interchange_state_2': [interchange_state_2],\n",
    "    'interchange_state_3': [interchange_state_3],\n",
    "    'terminal_location': [destination]\n",
    "}\n",
    "\n",
    "df = pd.DataFrame(data_dict)\n",
    "\n",
    "num_cols = [\n",
    "    'estimated_short_line_miles',\n",
    "    'number_of_articulated_units'\n",
    "]\n",
    "\n",
    "cat_cols = [\n",
    "    'car_ownership_category_code', \n",
    "    'all_rail_intermodal_code',\n",
    "    'origin_location',\n",
    "    'interchange_state_1',\n",
    "    'interchange_state_2',\n",
    "    'interchange_state_3',\n",
    "    'terminal_location'\n",
    "]\n",
    "\n",
    "encoded_cats = encoder.transform(df[cat_cols])\n",
    "scaled_nums = scaler.transform(df[num_cols])\n",
    "\n",
    "from scipy.sparse import hstack, csr_matrix\n",
    "input_data = hstack((scaled_nums, encoded_cats))\n",
    "input_data = csr_matrix(input_data).toarray()\n",
    "input_data = input_data.reshape(input_data.shape[0], input_data.shape[1], 1)"
   ]
  },
  {
   "cell_type": "code",
   "execution_count": 6,
   "metadata": {},
   "outputs": [],
   "source": [
    "prob = model.predict(input_data)[0][0]"
   ]
  },
  {
   "cell_type": "markdown",
   "metadata": {},
   "source": [
    "---"
   ]
  },
  {
   "cell_type": "markdown",
   "metadata": {},
   "source": [
    "## Result"
   ]
  },
  {
   "cell_type": "code",
   "execution_count": 10,
   "metadata": {},
   "outputs": [
    {
     "name": "stdout",
     "output_type": "stream",
     "text": [
      "There is a 99.95% chance of this freight containing hazardous materials.\n"
     ]
    }
   ],
   "source": [
    "print(f'There is a {round(prob*100,2)}% chance of this freight containing hazardous materials.')"
   ]
  },
  {
   "cell_type": "markdown",
   "metadata": {},
   "source": [
    "*this result is produced by our simple 1D CNN model with one-hot encoded routes*"
   ]
  },
  {
   "cell_type": "markdown",
   "metadata": {},
   "source": [
    " "
   ]
  }
 ],
 "metadata": {
  "kernelspec": {
   "display_name": "Python 3",
   "language": "python",
   "name": "python3"
  },
  "language_info": {
   "codemirror_mode": {
    "name": "ipython",
    "version": 3
   },
   "file_extension": ".py",
   "mimetype": "text/x-python",
   "name": "python",
   "nbconvert_exporter": "python",
   "pygments_lexer": "ipython3",
   "version": "3.7.4"
  }
 },
 "nbformat": 4,
 "nbformat_minor": 2
}
